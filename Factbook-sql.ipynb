{
 "cells": [
  {
   "cell_type": "markdown",
   "id": "5df45c41",
   "metadata": {},
   "source": [
    "# Central Intelligence  Agency(CIA) FactBook Data Insights."
   ]
  },
  {
   "cell_type": "markdown",
   "id": "88a0bcb2",
   "metadata": {},
   "source": [
    "## Introduction"
   ]
  },
  {
   "cell_type": "markdown",
   "id": "c9e4d023",
   "metadata": {},
   "source": [
    "The **World Factbook**, also known as the CIA World Factbook is a reference resource produced by the Central Intelligence Agency(CIA)about the countries of the world."
   ]
  },
  {
   "cell_type": "markdown",
   "id": "8f472a84",
   "metadata": {},
   "source": [
    "## Approach"
   ]
  },
  {
   "cell_type": "markdown",
   "id": "6e5f3ed2",
   "metadata": {},
   "source": [
    "Using  SQL in Jupyter Notebook to analyze data from an SQLite database called `factbook.db`."
   ]
  },
  {
   "cell_type": "code",
   "execution_count": null,
   "id": "b3e8e262",
   "metadata": {},
   "outputs": [],
   "source": []
  }
 ],
 "metadata": {
  "kernelspec": {
   "display_name": "Python 3 (ipykernel)",
   "language": "python",
   "name": "python3"
  },
  "language_info": {
   "codemirror_mode": {
    "name": "ipython",
    "version": 3
   },
   "file_extension": ".py",
   "mimetype": "text/x-python",
   "name": "python",
   "nbconvert_exporter": "python",
   "pygments_lexer": "ipython3",
   "version": "3.9.12"
  }
 },
 "nbformat": 4,
 "nbformat_minor": 5
}
